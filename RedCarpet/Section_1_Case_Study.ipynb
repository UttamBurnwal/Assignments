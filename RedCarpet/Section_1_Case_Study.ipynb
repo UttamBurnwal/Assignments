{
  "nbformat": 4,
  "nbformat_minor": 0,
  "metadata": {
    "colab": {
      "name": "Section_1_Case Study",
      "provenance": [],
      "collapsed_sections": []
    },
    "kernelspec": {
      "name": "python3",
      "display_name": "Python 3"
    },
    "language_info": {
      "name": "python"
    }
  },
  "cells": [
    {
      "cell_type": "markdown",
      "source": [
        "# Section 1: Case Study"
      ],
      "metadata": {
        "id": "f1sZFznCIpZc"
      }
    },
    {
      "cell_type": "markdown",
      "source": [
        "Analyzing an affiliated credit card (special card only available to members of a specific group). Think of it like this -\n",
        "the credit card company is like Citibank and the affiliated group is a company like Indian Oil or Barista. The\n",
        "affiliated group has to pay some fees to credit card company (because the credit card company is providing this\n",
        "service to the group)\n",
        "\n",
        "**Product Details (Parameters) :**\n",
        "- average card balance is Rs 1000\n",
        "- each card has an interest rate of 15%\n",
        "- membership fee is Rs 20 per card\n",
        "- loss rate is 3% (NOTE: what are the interpretations of this ? state your assumption CLEARLY when\n",
        "solving )\n",
        "- Rs 25 operating cost per card\n",
        "- Rs 10 affiliation fee per card (cost to the group organization itself, so that their members get this awesome\n",
        "card program)\n",
        "- 6.5% cost of funds (that credit card company must pay to the bank where it gets money)\n",
        "- bill/statement is issued on 1st of every month\n",
        "- credit-free period = 15 days from the bill/statement issue date.\n",
        "\n",
        "**Assumptions:**\n",
        "\n",
        "Consider 1000 customers for the above scenario, divide these 1000 customers into following groups(upon your assumption and understanding about the credit lending industry).\n",
        "\n",
        "So in this particular scenario we are assuming:\n",
        "\n",
        "1. 80 % of Customers who pay the bill within the credit-free period\n",
        "\n",
        "2. 10% of Customers pay bills 30 days after the last due date\n",
        "\n",
        "3. 8% of Customer pay bills 45 days after the last due date\n",
        "\n",
        "4. Only 2% Customer paying 60 days after the last due date(remove these customers for the complete calculation of the next month,basically, you are not supposed to provide further credit services to these customers)"
      ],
      "metadata": {
        "id": "BZUPgJVY5FvZ"
      }
    },
    {
      "cell_type": "code",
      "execution_count": 21,
      "metadata": {
        "id": "9bVKeQns44A6"
      },
      "outputs": [],
      "source": [
        "import pandas as pd"
      ]
    },
    {
      "cell_type": "code",
      "source": [
        "# Considering assumptions\n",
        "\n",
        "# Average monthly card balance\n",
        "card_balance = 1000\n",
        "\n",
        "# Total Months a year\n",
        "tot_months = 12\n",
        "\n",
        "# Given total customers = 1000\n",
        "total_customers = 1000\n",
        "\n",
        "# Creating a data frame and creating categories of customers\n",
        "\n",
        "data = pd.DataFrame({'categories' : ['pay_bill_ontime','pay_bill_30','pay_bill_45','pay_bill_60'], 'customers':[0.80* total_customers,0.1*total_customers,0.08*total_customers,0.02*total_customers]})\n",
        "data['customers'] = data['customers'].astype('int')\n",
        "data\n"
      ],
      "metadata": {
        "colab": {
          "base_uri": "https://localhost:8080/",
          "height": 174
        },
        "id": "VvrRQ2j85C0G",
        "outputId": "0e2af693-4ea6-4570-c7e9-e2747b898daa"
      },
      "execution_count": 22,
      "outputs": [
        {
          "output_type": "execute_result",
          "data": {
            "text/plain": [
              "        categories  customers\n",
              "0  pay_bill_ontime        800\n",
              "1      pay_bill_30        100\n",
              "2      pay_bill_45         80\n",
              "3      pay_bill_60         20"
            ],
            "text/html": [
              "\n",
              "  <div id=\"df-fd91f440-0c25-4b29-b65b-8dc442b0e2eb\">\n",
              "    <div class=\"colab-df-container\">\n",
              "      <div>\n",
              "<style scoped>\n",
              "    .dataframe tbody tr th:only-of-type {\n",
              "        vertical-align: middle;\n",
              "    }\n",
              "\n",
              "    .dataframe tbody tr th {\n",
              "        vertical-align: top;\n",
              "    }\n",
              "\n",
              "    .dataframe thead th {\n",
              "        text-align: right;\n",
              "    }\n",
              "</style>\n",
              "<table border=\"1\" class=\"dataframe\">\n",
              "  <thead>\n",
              "    <tr style=\"text-align: right;\">\n",
              "      <th></th>\n",
              "      <th>categories</th>\n",
              "      <th>customers</th>\n",
              "    </tr>\n",
              "  </thead>\n",
              "  <tbody>\n",
              "    <tr>\n",
              "      <th>0</th>\n",
              "      <td>pay_bill_ontime</td>\n",
              "      <td>800</td>\n",
              "    </tr>\n",
              "    <tr>\n",
              "      <th>1</th>\n",
              "      <td>pay_bill_30</td>\n",
              "      <td>100</td>\n",
              "    </tr>\n",
              "    <tr>\n",
              "      <th>2</th>\n",
              "      <td>pay_bill_45</td>\n",
              "      <td>80</td>\n",
              "    </tr>\n",
              "    <tr>\n",
              "      <th>3</th>\n",
              "      <td>pay_bill_60</td>\n",
              "      <td>20</td>\n",
              "    </tr>\n",
              "  </tbody>\n",
              "</table>\n",
              "</div>\n",
              "      <button class=\"colab-df-convert\" onclick=\"convertToInteractive('df-fd91f440-0c25-4b29-b65b-8dc442b0e2eb')\"\n",
              "              title=\"Convert this dataframe to an interactive table.\"\n",
              "              style=\"display:none;\">\n",
              "        \n",
              "  <svg xmlns=\"http://www.w3.org/2000/svg\" height=\"24px\"viewBox=\"0 0 24 24\"\n",
              "       width=\"24px\">\n",
              "    <path d=\"M0 0h24v24H0V0z\" fill=\"none\"/>\n",
              "    <path d=\"M18.56 5.44l.94 2.06.94-2.06 2.06-.94-2.06-.94-.94-2.06-.94 2.06-2.06.94zm-11 1L8.5 8.5l.94-2.06 2.06-.94-2.06-.94L8.5 2.5l-.94 2.06-2.06.94zm10 10l.94 2.06.94-2.06 2.06-.94-2.06-.94-.94-2.06-.94 2.06-2.06.94z\"/><path d=\"M17.41 7.96l-1.37-1.37c-.4-.4-.92-.59-1.43-.59-.52 0-1.04.2-1.43.59L10.3 9.45l-7.72 7.72c-.78.78-.78 2.05 0 2.83L4 21.41c.39.39.9.59 1.41.59.51 0 1.02-.2 1.41-.59l7.78-7.78 2.81-2.81c.8-.78.8-2.07 0-2.86zM5.41 20L4 18.59l7.72-7.72 1.47 1.35L5.41 20z\"/>\n",
              "  </svg>\n",
              "      </button>\n",
              "      \n",
              "  <style>\n",
              "    .colab-df-container {\n",
              "      display:flex;\n",
              "      flex-wrap:wrap;\n",
              "      gap: 12px;\n",
              "    }\n",
              "\n",
              "    .colab-df-convert {\n",
              "      background-color: #E8F0FE;\n",
              "      border: none;\n",
              "      border-radius: 50%;\n",
              "      cursor: pointer;\n",
              "      display: none;\n",
              "      fill: #1967D2;\n",
              "      height: 32px;\n",
              "      padding: 0 0 0 0;\n",
              "      width: 32px;\n",
              "    }\n",
              "\n",
              "    .colab-df-convert:hover {\n",
              "      background-color: #E2EBFA;\n",
              "      box-shadow: 0px 1px 2px rgba(60, 64, 67, 0.3), 0px 1px 3px 1px rgba(60, 64, 67, 0.15);\n",
              "      fill: #174EA6;\n",
              "    }\n",
              "\n",
              "    [theme=dark] .colab-df-convert {\n",
              "      background-color: #3B4455;\n",
              "      fill: #D2E3FC;\n",
              "    }\n",
              "\n",
              "    [theme=dark] .colab-df-convert:hover {\n",
              "      background-color: #434B5C;\n",
              "      box-shadow: 0px 1px 3px 1px rgba(0, 0, 0, 0.15);\n",
              "      filter: drop-shadow(0px 1px 2px rgba(0, 0, 0, 0.3));\n",
              "      fill: #FFFFFF;\n",
              "    }\n",
              "  </style>\n",
              "\n",
              "      <script>\n",
              "        const buttonEl =\n",
              "          document.querySelector('#df-fd91f440-0c25-4b29-b65b-8dc442b0e2eb button.colab-df-convert');\n",
              "        buttonEl.style.display =\n",
              "          google.colab.kernel.accessAllowed ? 'block' : 'none';\n",
              "\n",
              "        async function convertToInteractive(key) {\n",
              "          const element = document.querySelector('#df-fd91f440-0c25-4b29-b65b-8dc442b0e2eb');\n",
              "          const dataTable =\n",
              "            await google.colab.kernel.invokeFunction('convertToInteractive',\n",
              "                                                     [key], {});\n",
              "          if (!dataTable) return;\n",
              "\n",
              "          const docLinkHtml = 'Like what you see? Visit the ' +\n",
              "            '<a target=\"_blank\" href=https://colab.research.google.com/notebooks/data_table.ipynb>data table notebook</a>'\n",
              "            + ' to learn more about interactive tables.';\n",
              "          element.innerHTML = '';\n",
              "          dataTable['output_type'] = 'display_data';\n",
              "          await google.colab.output.renderOutput(dataTable, element);\n",
              "          const docLink = document.createElement('div');\n",
              "          docLink.innerHTML = docLinkHtml;\n",
              "          element.appendChild(docLink);\n",
              "        }\n",
              "      </script>\n",
              "    </div>\n",
              "  </div>\n",
              "  "
            ]
          },
          "metadata": {},
          "execution_count": 22
        }
      ]
    },
    {
      "cell_type": "markdown",
      "source": [
        "## Revenue for company (Each Year)\n",
        "\n",
        "The company charges an interest rate of 15% on each card. Since interest rate is on the amount of loan it is difficult to calculate the exact revenue. \n",
        "However, they take membership fee charging Rs 20 per card. I am assuming they charge membership fee every month. \n",
        "They also take Rs 10 affiliation fee per card. I am assuming even for this they charge every month. "
      ],
      "metadata": {
        "id": "TZlax7iI_XE4"
      }
    },
    {
      "cell_type": "code",
      "source": [
        "interest_rate = 0.15\n",
        "membership_fee = 20*tot_months*total_customers\n",
        "affiliate_fee = 10*tot_months*total_customers"
      ],
      "metadata": {
        "id": "fFj9bqj18i-o"
      },
      "execution_count": 23,
      "outputs": []
    },
    {
      "cell_type": "markdown",
      "source": [
        "## Expense for company (Each Year)\n",
        "The company pays 6.5% costs of funds to banks from where it gets money from. They also have Rs 25 operating cost on each card. Finally their loss rate is 3%. I am assuming the 3% loss rate is the borrowers default on their entire balance."
      ],
      "metadata": {
        "id": "BFoLiASS_mJv"
      }
    },
    {
      "cell_type": "code",
      "source": [
        "cost_funds = tot_months*card_balance*total_customers*0.065/12\n",
        "operating_cost = 25*tot_months*total_customers\n",
        "loss_rate = 0.03\n",
        "loss = loss_rate*card_balance*total_customers"
      ],
      "metadata": {
        "id": "bBhNcWcx836q"
      },
      "execution_count": 24,
      "outputs": []
    },
    {
      "cell_type": "markdown",
      "source": [
        "Given conditions: \n",
        "\n",
        "1. The interest rate is simple interest.\n",
        "2. Interest is calculated on a daily basis.\n",
        "3. The average card balance is the average end of month balance.\n",
        "4. All members are more than a year old."
      ],
      "metadata": {
        "id": "HHujPIDEENWY"
      }
    },
    {
      "cell_type": "code",
      "source": [
        "# Calculating Interest of customers Based on their Categories\n",
        "# # Billing cycle starts from 1st of every month. Assuming average day of transaction as 15th of billing cycle \n",
        "\n",
        "def cal_interest(category):\n",
        "  avg_day = 15\n",
        "\n",
        "  if category == data['categories'][0]:\n",
        "    interest = 0\n",
        "\n",
        "  elif category == data['categories'][1]:\n",
        "    interest = (avg_day+15+30)*card_balance*interest_rate/365\n",
        "\n",
        "  elif category == data['categories'][2]:\n",
        "    interest = (avg_day+15+45)*card_balance*interest_rate/365\n",
        "\n",
        "  elif category == data['categories'][3]:\n",
        "    interest = (avg_day+15+60)*card_balance*interest_rate/365\n",
        "\n",
        "  return interest\n",
        "\n",
        "data['Estimated_Interest_on_Default']=data['categories'].apply(cal_interest).round(2)"
      ],
      "metadata": {
        "id": "aPAMi-_k9TFi"
      },
      "execution_count": 25,
      "outputs": []
    },
    {
      "cell_type": "code",
      "source": [
        "# Calculating total interest rate\n",
        "\n",
        "data['One_Year_Interest'] = tot_months*data['Estimated_Interest_on_Default']*data['customers']"
      ],
      "metadata": {
        "id": "deWBs_lJ9TQq"
      },
      "execution_count": 26,
      "outputs": []
    },
    {
      "cell_type": "code",
      "source": [
        "data"
      ],
      "metadata": {
        "colab": {
          "base_uri": "https://localhost:8080/",
          "height": 174
        },
        "id": "bmPMY13Y9TaC",
        "outputId": "c3419324-31f7-4abe-9bff-56e407e5ce5e"
      },
      "execution_count": 27,
      "outputs": [
        {
          "output_type": "execute_result",
          "data": {
            "text/plain": [
              "        categories  customers  Estimated_Interest_on_Default  \\\n",
              "0  pay_bill_ontime        800                           0.00   \n",
              "1      pay_bill_30        100                          24.66   \n",
              "2      pay_bill_45         80                          30.82   \n",
              "3      pay_bill_60         20                          36.99   \n",
              "\n",
              "   One_Year_Interest  \n",
              "0                0.0  \n",
              "1            29592.0  \n",
              "2            29587.2  \n",
              "3             8877.6  "
            ],
            "text/html": [
              "\n",
              "  <div id=\"df-97fc69ec-1460-4537-a0d2-4ea2416367f2\">\n",
              "    <div class=\"colab-df-container\">\n",
              "      <div>\n",
              "<style scoped>\n",
              "    .dataframe tbody tr th:only-of-type {\n",
              "        vertical-align: middle;\n",
              "    }\n",
              "\n",
              "    .dataframe tbody tr th {\n",
              "        vertical-align: top;\n",
              "    }\n",
              "\n",
              "    .dataframe thead th {\n",
              "        text-align: right;\n",
              "    }\n",
              "</style>\n",
              "<table border=\"1\" class=\"dataframe\">\n",
              "  <thead>\n",
              "    <tr style=\"text-align: right;\">\n",
              "      <th></th>\n",
              "      <th>categories</th>\n",
              "      <th>customers</th>\n",
              "      <th>Estimated_Interest_on_Default</th>\n",
              "      <th>One_Year_Interest</th>\n",
              "    </tr>\n",
              "  </thead>\n",
              "  <tbody>\n",
              "    <tr>\n",
              "      <th>0</th>\n",
              "      <td>pay_bill_ontime</td>\n",
              "      <td>800</td>\n",
              "      <td>0.00</td>\n",
              "      <td>0.0</td>\n",
              "    </tr>\n",
              "    <tr>\n",
              "      <th>1</th>\n",
              "      <td>pay_bill_30</td>\n",
              "      <td>100</td>\n",
              "      <td>24.66</td>\n",
              "      <td>29592.0</td>\n",
              "    </tr>\n",
              "    <tr>\n",
              "      <th>2</th>\n",
              "      <td>pay_bill_45</td>\n",
              "      <td>80</td>\n",
              "      <td>30.82</td>\n",
              "      <td>29587.2</td>\n",
              "    </tr>\n",
              "    <tr>\n",
              "      <th>3</th>\n",
              "      <td>pay_bill_60</td>\n",
              "      <td>20</td>\n",
              "      <td>36.99</td>\n",
              "      <td>8877.6</td>\n",
              "    </tr>\n",
              "  </tbody>\n",
              "</table>\n",
              "</div>\n",
              "      <button class=\"colab-df-convert\" onclick=\"convertToInteractive('df-97fc69ec-1460-4537-a0d2-4ea2416367f2')\"\n",
              "              title=\"Convert this dataframe to an interactive table.\"\n",
              "              style=\"display:none;\">\n",
              "        \n",
              "  <svg xmlns=\"http://www.w3.org/2000/svg\" height=\"24px\"viewBox=\"0 0 24 24\"\n",
              "       width=\"24px\">\n",
              "    <path d=\"M0 0h24v24H0V0z\" fill=\"none\"/>\n",
              "    <path d=\"M18.56 5.44l.94 2.06.94-2.06 2.06-.94-2.06-.94-.94-2.06-.94 2.06-2.06.94zm-11 1L8.5 8.5l.94-2.06 2.06-.94-2.06-.94L8.5 2.5l-.94 2.06-2.06.94zm10 10l.94 2.06.94-2.06 2.06-.94-2.06-.94-.94-2.06-.94 2.06-2.06.94z\"/><path d=\"M17.41 7.96l-1.37-1.37c-.4-.4-.92-.59-1.43-.59-.52 0-1.04.2-1.43.59L10.3 9.45l-7.72 7.72c-.78.78-.78 2.05 0 2.83L4 21.41c.39.39.9.59 1.41.59.51 0 1.02-.2 1.41-.59l7.78-7.78 2.81-2.81c.8-.78.8-2.07 0-2.86zM5.41 20L4 18.59l7.72-7.72 1.47 1.35L5.41 20z\"/>\n",
              "  </svg>\n",
              "      </button>\n",
              "      \n",
              "  <style>\n",
              "    .colab-df-container {\n",
              "      display:flex;\n",
              "      flex-wrap:wrap;\n",
              "      gap: 12px;\n",
              "    }\n",
              "\n",
              "    .colab-df-convert {\n",
              "      background-color: #E8F0FE;\n",
              "      border: none;\n",
              "      border-radius: 50%;\n",
              "      cursor: pointer;\n",
              "      display: none;\n",
              "      fill: #1967D2;\n",
              "      height: 32px;\n",
              "      padding: 0 0 0 0;\n",
              "      width: 32px;\n",
              "    }\n",
              "\n",
              "    .colab-df-convert:hover {\n",
              "      background-color: #E2EBFA;\n",
              "      box-shadow: 0px 1px 2px rgba(60, 64, 67, 0.3), 0px 1px 3px 1px rgba(60, 64, 67, 0.15);\n",
              "      fill: #174EA6;\n",
              "    }\n",
              "\n",
              "    [theme=dark] .colab-df-convert {\n",
              "      background-color: #3B4455;\n",
              "      fill: #D2E3FC;\n",
              "    }\n",
              "\n",
              "    [theme=dark] .colab-df-convert:hover {\n",
              "      background-color: #434B5C;\n",
              "      box-shadow: 0px 1px 3px 1px rgba(0, 0, 0, 0.15);\n",
              "      filter: drop-shadow(0px 1px 2px rgba(0, 0, 0, 0.3));\n",
              "      fill: #FFFFFF;\n",
              "    }\n",
              "  </style>\n",
              "\n",
              "      <script>\n",
              "        const buttonEl =\n",
              "          document.querySelector('#df-97fc69ec-1460-4537-a0d2-4ea2416367f2 button.colab-df-convert');\n",
              "        buttonEl.style.display =\n",
              "          google.colab.kernel.accessAllowed ? 'block' : 'none';\n",
              "\n",
              "        async function convertToInteractive(key) {\n",
              "          const element = document.querySelector('#df-97fc69ec-1460-4537-a0d2-4ea2416367f2');\n",
              "          const dataTable =\n",
              "            await google.colab.kernel.invokeFunction('convertToInteractive',\n",
              "                                                     [key], {});\n",
              "          if (!dataTable) return;\n",
              "\n",
              "          const docLinkHtml = 'Like what you see? Visit the ' +\n",
              "            '<a target=\"_blank\" href=https://colab.research.google.com/notebooks/data_table.ipynb>data table notebook</a>'\n",
              "            + ' to learn more about interactive tables.';\n",
              "          element.innerHTML = '';\n",
              "          dataTable['output_type'] = 'display_data';\n",
              "          await google.colab.output.renderOutput(dataTable, element);\n",
              "          const docLink = document.createElement('div');\n",
              "          docLink.innerHTML = docLinkHtml;\n",
              "          element.appendChild(docLink);\n",
              "        }\n",
              "      </script>\n",
              "    </div>\n",
              "  </div>\n",
              "  "
            ]
          },
          "metadata": {},
          "execution_count": 27
        }
      ]
    },
    {
      "cell_type": "markdown",
      "source": [
        "### Question 1: How much profit % is generated in 1 year?"
      ],
      "metadata": {
        "id": "oDzFjCi8RU2J"
      }
    },
    {
      "cell_type": "code",
      "source": [
        "import numpy as np\n",
        "\n",
        "Revenue = membership_fee + affiliate_fee + np.sum(data['One_Year_Interest'])\n",
        "Expenses = cost_funds + operating_cost + loss\n",
        "\n",
        "print('Revenue of the company in 1 Year:',Revenue)\n",
        "print('Expenses of company in 1 Year:',Expenses)"
      ],
      "metadata": {
        "colab": {
          "base_uri": "https://localhost:8080/"
        },
        "id": "p0TWIBM3QHHi",
        "outputId": "51131852-6c72-4350-9845-8958f473405c"
      },
      "execution_count": 28,
      "outputs": [
        {
          "output_type": "stream",
          "name": "stdout",
          "text": [
            "Revenue of the company in 1 Year: 428056.8\n",
            "Expenses of company in 1 Year: 395000.0\n"
          ]
        }
      ]
    },
    {
      "cell_type": "code",
      "source": [
        "profit = Revenue-Expenses\n",
        "profit_percent = (profit/Expenses)*100\n",
        "print(f'Profit % generated in 1 year is {profit_percent:.2f} %')"
      ],
      "metadata": {
        "colab": {
          "base_uri": "https://localhost:8080/"
        },
        "id": "bkXvUSdJSpgS",
        "outputId": "35d1f10d-dd57-404b-eab6-1e49ca75db77"
      },
      "execution_count": 29,
      "outputs": [
        {
          "output_type": "stream",
          "name": "stdout",
          "text": [
            "Profit % generated in 1 year is 8.37 %\n"
          ]
        }
      ]
    },
    {
      "cell_type": "markdown",
      "source": [
        "### Question 2: If the average balance is increased to $2000, what happens to the loss?\n",
        "\n",
        "Assumption: 3% loss rate of the borrowers\n",
        "default on their entire balance."
      ],
      "metadata": {
        "id": "rfxo8pelTvro"
      }
    },
    {
      "cell_type": "code",
      "source": [
        "# When the average balance is $1000, the loss due to loss rate is\n",
        "\n",
        "Initial_loss = loss_rate*card_balance*total_customers\n",
        "print('When the average balance is $1000, the loss due to loss rate is $',Initial_loss)\n",
        "\n",
        "# When the average balanace is increased to 2000\n",
        "\n",
        "new_card_balance = 2000\n",
        "New_loss = loss_rate*new_card_balance*total_customers\n",
        "print('When the average balanace is increased to 2000, the new loss due to loss rate is $',New_loss)"
      ],
      "metadata": {
        "colab": {
          "base_uri": "https://localhost:8080/"
        },
        "id": "UmKjTCdvTIwe",
        "outputId": "a50cbee9-9ba8-4a76-f81f-297ae6a499d7"
      },
      "execution_count": 30,
      "outputs": [
        {
          "output_type": "stream",
          "name": "stdout",
          "text": [
            "When the average balance is $1000, the loss due to loss rate is $ 30000.0\n",
            "When the average balanace is increased to 2000, the new loss due to loss rate is $ 60000.0\n"
          ]
        }
      ]
    },
    {
      "cell_type": "markdown",
      "source": [
        "We can see that when he increased the average balance from 1000 dollars to 2000 dollars, the loss due to loss rate has been doubled."
      ],
      "metadata": {
        "id": "1OPyW1TAU4Gh"
      }
    },
    {
      "cell_type": "markdown",
      "source": [
        "### Question 3: Is a borrower with a low balance more or less likely to default then a borrower with a high balance? Why?"
      ],
      "metadata": {
        "id": "1m4jdQ9SVnSD"
      }
    },
    {
      "cell_type": "markdown",
      "source": [
        "Borrower with less balance will more likely to default then a borrower with a high balance as low balance could indicate scenarios of unstable low job or income. On the other hand, a borrower with high balance indicate that they have good job or business and their source of income is pretty stable. So people with stable income will less likely to default in comparison to the people with less stable income. "
      ],
      "metadata": {
        "id": "kWxOsmJ-fqlC"
      }
    },
    {
      "cell_type": "markdown",
      "source": [
        "### Question 4: The group company has now become unhappy with the credit card provider. It wants to start its own credit card. But for that, it will need to purchase the customers from the current credit card company. If the affiliated group offered Rs 20 per account to purchase all the customers from the credit card company, what would their profit be? (assume that we are only talking about 1 year)"
      ],
      "metadata": {
        "id": "GpysuqHiA1tb"
      }
    },
    {
      "cell_type": "code",
      "source": [
        "# Assuming all the handling expense would be same for the affiliated company as well, they would only incur an additional expense of buying the account of customers at Rs 20.\n",
        "\n",
        "account_cost = 20*total_customers\n",
        "\n",
        "aff_Revenue = membership_fee + affiliate_fee + np.sum(data['One_Year_Interest'])\n",
        "aff_Expenses = cost_funds + operating_cost + loss + account_cost\n",
        "\n",
        "print('Revenue of the company in 1 Year:',Revenue)\n",
        "print('Expenses of company in 1 Year:',Expenses)\n",
        "\n",
        "profit = aff_Revenue - aff_Expenses\n",
        "profit_percent = (profit/Expenses)*100\n",
        "print(f'Profit % generated in 1 year is {profit_percent:.2f} %')"
      ],
      "metadata": {
        "colab": {
          "base_uri": "https://localhost:8080/"
        },
        "id": "b2afDLg6Uz4I",
        "outputId": "7053debf-8dba-43ad-8cd0-25ca0b9bf4c6"
      },
      "execution_count": 31,
      "outputs": [
        {
          "output_type": "stream",
          "name": "stdout",
          "text": [
            "Revenue of the company in 1 Year: 428056.8\n",
            "Expenses of company in 1 Year: 395000.0\n",
            "Profit % generated in 1 year is 3.31 %\n"
          ]
        }
      ]
    },
    {
      "cell_type": "markdown",
      "source": [
        "### Question 5: What numbers can the financial institution change to convince the affiliated group not to want to purchase, while still not going into a loss? Give a range of what the new numbers are (min and max)"
      ],
      "metadata": {
        "id": "BahnfzIpBGFv"
      }
    },
    {
      "cell_type": "markdown",
      "source": [
        "* The financial institution can change the percentage of defaulters and show it much higher so that the affiliated company might consider it a risky or hassle business.\n",
        "* The credit company can also convince the affiliated organisation that their operating cost per card is much higher and the only reason they could afford it in such low rate is because they operate these cards in bulk.\n",
        "\n",
        "\n",
        "\n"
      ],
      "metadata": {
        "id": "D66AqjtRFE_h"
      }
    },
    {
      "cell_type": "markdown",
      "source": [
        "### Question 6: What is the extra cost(if any) company will have to incur if the customer delays the payment of the credit card bill after the due date?"
      ],
      "metadata": {
        "id": "LtUZGENyBRiW"
      }
    },
    {
      "cell_type": "markdown",
      "source": [
        "The company has to incur an extra cost 6.5% of the funds the credit card company has to pay to the bank."
      ],
      "metadata": {
        "id": "XtrMJaz-B7a1"
      }
    },
    {
      "cell_type": "markdown",
      "source": [
        "### Question 7: Is it beneficial for the company if the customer pays the credit card bill after the due date? (express your views as a business strategy analyst with a short example)"
      ],
      "metadata": {
        "id": "3Lc7IaC8BbPv"
      }
    },
    {
      "cell_type": "markdown",
      "source": [
        "Yes, even if the customers pay the credit bill after due date, company will still make a profit as delay is directly proportional to interest generated. So unless a customer defaults the situation is in favour of the company."
      ],
      "metadata": {
        "id": "EmgNGJAaCYDV"
      }
    },
    {
      "cell_type": "code",
      "source": [
        ""
      ],
      "metadata": {
        "id": "FrHBLyVTBg5K"
      },
      "execution_count": null,
      "outputs": []
    }
  ]
}